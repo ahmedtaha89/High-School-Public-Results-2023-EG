{
 "cells": [
  {
   "cell_type": "code",
   "execution_count": 1,
   "metadata": {},
   "outputs": [],
   "source": [
    "import pandas as pd\n",
    "import requests \n",
    "from bs4 import BeautifulSoup\n"
   ]
  },
  {
   "cell_type": "code",
   "execution_count": 2,
   "metadata": {},
   "outputs": [
    {
     "name": "stdout",
     "output_type": "stream",
     "text": [
      "11\n"
     ]
    }
   ],
   "source": [
    "my_list=[]\n",
    "for seats in range(1459530,1459541):\n",
    "  response = requests.get(f'https://shbabbek.com/natega/{seats}')\n",
    "  try:\n",
    "   if response.status_code == 200:\n",
    "     my_list.append(response.content)     \n",
    "    \n",
    "  except:\n",
    "    break\n",
    "\n",
    "print(len(my_list))"
   ]
  },
  {
   "cell_type": "code",
   "execution_count": 3,
   "metadata": {
    "scrolled": true
   },
   "outputs": [],
   "source": [
    "sourse = response.content"
   ]
  },
  {
   "cell_type": "code",
   "execution_count": 5,
   "metadata": {},
   "outputs": [],
   "source": [
    "soup=BeautifulSoup(sourse,\"lxml\")"
   ]
  },
  {
   "cell_type": "code",
   "execution_count": 6,
   "metadata": {},
   "outputs": [],
   "source": [
    "def extraction(response):\n",
    "    result = {}\n",
    "    soup = BeautifulSoup(response, 'lxml')\n",
    "    result[\"seat_no\"]=soup.find_all('span',class_='text-center font-weight-bold text-white')[0].text.strip()\n",
    "    result[\"name\"]=soup.find_all('div',class_='text-lg fs-3 font-weight-bold text-center mb-1')[0].text.strip()\n",
    "    result[\"total_marks\"]=soup.find_all('table',class_='table table-striped table-customize shadow')[2].find_all('td')[9].text.strip()\n",
    "    result[\"percentage\"]=soup.find_all('table',class_='table table-striped table-customize shadow')[2].find_all('td')[11].text.strip()\n",
    "    result[\"sc_name\"]=soup.find_all('table',class_='table table-striped table-customize shadow')[2].find_all('td')[5].text.strip()\n",
    "    result[\"edu_administration\"]=soup.find_all('table',class_='table table-striped table-customize shadow')[2].find_all('td')[7].text.strip()\n",
    "    result[\"recurring_arrangement\"]=soup.find_all('table',class_='table table-striped table-customize shadow')[1].find_all('td')[1].text.strip()\n",
    "    result[\"non_recurring_arrangement\"]=soup.find_all('table',class_='table table-striped table-customize shadow')[0].find_all('td')[1].text.strip()        \n",
    "    result[\"passed\"]=1 if(soup.find_all('span',class_='text-center font-weight-bold text-white')[1].text==\"ناجح\") else[0]\n",
    "    #select division\n",
    "    result[\"select_division\"]=soup.find_all('div',class_='text-black-50 fs-5 text-center')[0].text.strip().strip()\n",
    "    #get the result of the fixed subjects\n",
    "    result[\"arabic\"]=soup.find_all('table',class_='table table-striped table-customize shadow')[3].find_all('td')[1].text.strip()\n",
    "    result[\"english\"]=soup.find_all('table',class_='table table-striped table-customize shadow')[3].find_all('td')[3].text.strip()\n",
    "    result[\"third_lang\"]=soup.find_all('table',class_='table table-striped table-customize shadow')[3].find_all('td')[5].text.strip()\n",
    "    result[\"history\"]=soup.find_all('table',class_='table table-striped table-customize shadow')[3].find_all('td')[9].text.strip()\n",
    "    result[\"geograpgy\"]=soup.find_all('table',class_='table table-striped table-customize shadow')[3].find_all('td')[11].text.strip()\n",
    "    result[\"philosophy\"]=soup.find_all('table',class_='table table-striped table-customize shadow')[3].find_all('td')[13].text.strip()\n",
    "    result[\"psychology\"]=soup.find_all('table',class_='table table-striped table-customize shadow')[3].find_all('td')[15].text.strip()\n",
    "    result[\"chemistry\"]=soup.find_all('table',class_='table table-striped table-customize shadow')[3].find_all('td')[17].text.strip()\n",
    "    result[\"biology\"]=soup.find_all('table',class_='table table-striped table-customize shadow')[3].find_all('td')[19].text.strip()\n",
    "    result[\"geology\"]=soup.find_all('table',class_='table table-striped table-customize shadow')[3].find_all('td')[21].text.strip()\n",
    "    result[\"physics\"]=soup.find_all('table',class_='table table-striped table-customize shadow')[3].find_all('td')[25].text.strip()\n",
    "    result[\"chemistry\"]=soup.find_all('table',class_='table table-striped table-customize shadow')[3].find_all('td')[17].text.strip()\n",
    "    result[\"physics\"]=soup.find_all('table',class_='table table-striped table-customize shadow')[3].find_all('td')[25].text.strip()\n",
    "    result[\"pure_math\"]=soup.find_all('table',class_='table table-striped table-customize shadow')[3].find_all('td')[7].text.strip()\n",
    "    result[\"applied_math\"]=soup.find_all('table',class_='table table-striped table-customize shadow')[3].find_all('td')[23].text.strip()\n",
    "\n",
    "    return result"
   ]
  },
  {
   "cell_type": "code",
   "execution_count": 7,
   "metadata": {},
   "outputs": [],
   "source": [
    "soup = BeautifulSoup(my_list[0], 'lxml')"
   ]
  },
  {
   "cell_type": "code",
   "execution_count": 8,
   "metadata": {},
   "outputs": [
    {
     "data": {
      "text/plain": [
       "{'seat_no': '1459535',\n",
       " 'name': 'امانى أيمن مصطفى أبو شعيشع على',\n",
       " 'total_marks': '344',\n",
       " 'percentage': '83.9%',\n",
       " 'sc_name': 'الشهيد محمد محمد عبدالعزيز صالح بابوبدوى',\n",
       " 'edu_administration': 'بيلا',\n",
       " 'recurring_arrangement': '395',\n",
       " 'non_recurring_arrangement': '9199',\n",
       " 'passed': 1,\n",
       " 'select_division': 'أدبي',\n",
       " 'arabic': '67.5',\n",
       " 'english': '40.5',\n",
       " 'third_lang': '36.5',\n",
       " 'history': '48',\n",
       " 'geograpgy': '53.5',\n",
       " 'philosophy': '50',\n",
       " 'psychology': '48',\n",
       " 'chemistry': 'غير مقرر',\n",
       " 'biology': 'غير مقرر',\n",
       " 'geology': 'غير مقرر',\n",
       " 'physics': 'غير مقرر',\n",
       " 'pure_math': 'غير مقرر',\n",
       " 'applied_math': 'غير مقرر'}"
      ]
     },
     "execution_count": 8,
     "metadata": {},
     "output_type": "execute_result"
    }
   ],
   "source": [
    "extraction(my_list[5])"
   ]
  },
  {
   "cell_type": "code",
   "execution_count": 9,
   "metadata": {
    "scrolled": true
   },
   "outputs": [
    {
     "ename": "AttributeError",
     "evalue": "'DataFrame' object has no attribute 'append'",
     "output_type": "error",
     "traceback": [
      "\u001b[1;31m---------------------------------------------------------------------------\u001b[0m",
      "\u001b[1;31mAttributeError\u001b[0m                            Traceback (most recent call last)",
      "\u001b[1;32m~\\AppData\\Local\\Temp\\ipykernel_12480\\1991763055.py\u001b[0m in \u001b[0;36m?\u001b[1;34m()\u001b[0m\n\u001b[0;32m      1\u001b[0m \u001b[0mfinal\u001b[0m \u001b[1;33m=\u001b[0m \u001b[0mpd\u001b[0m\u001b[1;33m.\u001b[0m\u001b[0mDataFrame\u001b[0m\u001b[1;33m(\u001b[0m\u001b[1;33m)\u001b[0m\u001b[1;33m\u001b[0m\u001b[1;33m\u001b[0m\u001b[0m\n\u001b[0;32m      2\u001b[0m \u001b[1;32mfor\u001b[0m \u001b[0mi\u001b[0m \u001b[1;32min\u001b[0m \u001b[0mmy_list\u001b[0m\u001b[1;33m[\u001b[0m\u001b[1;36m1\u001b[0m\u001b[1;33m:\u001b[0m\u001b[1;33m]\u001b[0m\u001b[1;33m:\u001b[0m\u001b[1;33m\u001b[0m\u001b[1;33m\u001b[0m\u001b[0m\n\u001b[0;32m      3\u001b[0m   \u001b[0msourse\u001b[0m \u001b[1;33m=\u001b[0m \u001b[0mi\u001b[0m\u001b[1;33m\u001b[0m\u001b[1;33m\u001b[0m\u001b[0m\n\u001b[0;32m      4\u001b[0m   \u001b[0mresult\u001b[0m \u001b[1;33m=\u001b[0m \u001b[0mextraction\u001b[0m\u001b[1;33m(\u001b[0m\u001b[0msourse\u001b[0m\u001b[1;33m)\u001b[0m\u001b[1;33m\u001b[0m\u001b[1;33m\u001b[0m\u001b[0m\n\u001b[1;32m----> 5\u001b[1;33m   \u001b[0mfinal\u001b[0m \u001b[1;33m=\u001b[0m \u001b[0mfinal\u001b[0m\u001b[1;33m.\u001b[0m\u001b[0mappend\u001b[0m\u001b[1;33m(\u001b[0m\u001b[0mresult\u001b[0m\u001b[1;33m,\u001b[0m\u001b[0mignore_index\u001b[0m\u001b[1;33m=\u001b[0m\u001b[1;32mTrue\u001b[0m\u001b[1;33m)\u001b[0m\u001b[1;33m\u001b[0m\u001b[1;33m\u001b[0m\u001b[0m\n\u001b[0m",
      "\u001b[1;32m~\\AppData\\Local\\Packages\\PythonSoftwareFoundation.Python.3.11_qbz5n2kfra8p0\\LocalCache\\local-packages\\Python311\\site-packages\\pandas\\core\\generic.py\u001b[0m in \u001b[0;36m?\u001b[1;34m(self, name)\u001b[0m\n\u001b[0;32m   5985\u001b[0m             \u001b[1;32mand\u001b[0m \u001b[0mname\u001b[0m \u001b[1;32mnot\u001b[0m \u001b[1;32min\u001b[0m \u001b[0mself\u001b[0m\u001b[1;33m.\u001b[0m\u001b[0m_accessors\u001b[0m\u001b[1;33m\u001b[0m\u001b[1;33m\u001b[0m\u001b[0m\n\u001b[0;32m   5986\u001b[0m             \u001b[1;32mand\u001b[0m \u001b[0mself\u001b[0m\u001b[1;33m.\u001b[0m\u001b[0m_info_axis\u001b[0m\u001b[1;33m.\u001b[0m\u001b[0m_can_hold_identifiers_and_holds_name\u001b[0m\u001b[1;33m(\u001b[0m\u001b[0mname\u001b[0m\u001b[1;33m)\u001b[0m\u001b[1;33m\u001b[0m\u001b[1;33m\u001b[0m\u001b[0m\n\u001b[0;32m   5987\u001b[0m         ):\n\u001b[0;32m   5988\u001b[0m             \u001b[1;32mreturn\u001b[0m \u001b[0mself\u001b[0m\u001b[1;33m[\u001b[0m\u001b[0mname\u001b[0m\u001b[1;33m]\u001b[0m\u001b[1;33m\u001b[0m\u001b[1;33m\u001b[0m\u001b[0m\n\u001b[1;32m-> 5989\u001b[1;33m         \u001b[1;32mreturn\u001b[0m \u001b[0mobject\u001b[0m\u001b[1;33m.\u001b[0m\u001b[0m__getattribute__\u001b[0m\u001b[1;33m(\u001b[0m\u001b[0mself\u001b[0m\u001b[1;33m,\u001b[0m \u001b[0mname\u001b[0m\u001b[1;33m)\u001b[0m\u001b[1;33m\u001b[0m\u001b[1;33m\u001b[0m\u001b[0m\n\u001b[0m",
      "\u001b[1;31mAttributeError\u001b[0m: 'DataFrame' object has no attribute 'append'"
     ]
    }
   ],
   "source": [
    "final = pd.DataFrame()\n",
    "for i in my_list[1:]:\n",
    "  sourse = i\n",
    "  result = extraction(sourse)\n",
    "  final = final.append(result,ignore_index=True)"
   ]
  },
  {
   "cell_type": "code",
   "execution_count": null,
   "metadata": {},
   "outputs": [
    {
     "data": {
      "text/html": [
       "<div>\n",
       "<style scoped>\n",
       "    .dataframe tbody tr th:only-of-type {\n",
       "        vertical-align: middle;\n",
       "    }\n",
       "\n",
       "    .dataframe tbody tr th {\n",
       "        vertical-align: top;\n",
       "    }\n",
       "\n",
       "    .dataframe thead th {\n",
       "        text-align: right;\n",
       "    }\n",
       "</style>\n",
       "<table border=\"1\" class=\"dataframe\">\n",
       "  <thead>\n",
       "    <tr style=\"text-align: right;\">\n",
       "      <th></th>\n",
       "    </tr>\n",
       "  </thead>\n",
       "  <tbody>\n",
       "  </tbody>\n",
       "</table>\n",
       "</div>"
      ],
      "text/plain": [
       "Empty DataFrame\n",
       "Columns: []\n",
       "Index: []"
      ]
     },
     "execution_count": 11,
     "metadata": {},
     "output_type": "execute_result"
    }
   ],
   "source": [
    "final"
   ]
  },
  {
   "cell_type": "code",
   "execution_count": null,
   "metadata": {
    "scrolled": true
   },
   "outputs": [],
   "source": [
    "final.to_csv(r'D:\\Projects\\High-School-Public-Results-2023-EG\\results.csv', index=False)"
   ]
  }
 ],
 "metadata": {
  "kernelspec": {
   "display_name": "Python 3 (ipykernel)",
   "language": "python",
   "name": "python3"
  },
  "language_info": {
   "codemirror_mode": {
    "name": "ipython",
    "version": 3
   },
   "file_extension": ".py",
   "mimetype": "text/x-python",
   "name": "python",
   "nbconvert_exporter": "python",
   "pygments_lexer": "ipython3",
   "version": "3.11.4"
  }
 },
 "nbformat": 4,
 "nbformat_minor": 2
}
